{
 "cells": [
  {
   "cell_type": "markdown",
   "id": "e09ad743-a9d8-4aa8-aef7-2bdda6842ba1",
   "metadata": {},
   "source": [
    "Q1. Explain GET and POST methods."
   ]
  },
  {
   "cell_type": "markdown",
   "id": "780520e9-e74f-4c41-abf9-bdfa692a47c3",
   "metadata": {},
   "source": [
    "In Flask, the GET method is used to retrieve data from a server. It is one of the HTTP methods used for communication between clients (such as web browsers) and servers. In Flask, you can define routes that handle GET requests and return the appropriate response.\n",
    "\n",
    "In Flask, the POST method is used to send data to the server for processing. It is one of the HTTP methods used for communication between clients (such as web browsers) and servers. In Flask, you can define routes that handle POST requests and retrieve the submitted data."
   ]
  },
  {
   "cell_type": "markdown",
   "id": "71652c43-745f-4290-86eb-cd0f697a635f",
   "metadata": {},
   "source": [
    "Q2. Why is request used in Flask?"
   ]
  },
  {
   "cell_type": "markdown",
   "id": "d1d3a34b-c5a4-4250-a9ef-0f5e9a62cb9d",
   "metadata": {},
   "source": [
    "The request object in Flask is a global object provided by the framework that represents the incoming HTTP request made by the client (e.g., web browser, API client) to the server. It encapsulates all the information related to the request, such as headers, query parameters, form data, cookies, and more."
   ]
  },
  {
   "cell_type": "markdown",
   "id": "35d107f8-0aa6-4fb4-b02f-23f830cc5bab",
   "metadata": {},
   "source": [
    "Q3. Why is redirect() used in Flask?"
   ]
  },
  {
   "cell_type": "markdown",
   "id": "c9d26982-1990-41b7-8c3b-58021267175c",
   "metadata": {},
   "source": [
    "The redirect() function in Flask is used to redirect the client (e.g., web browser) to a different URL. It is a convenient way to perform HTTP redirects and guide the client to another location."
   ]
  },
  {
   "cell_type": "markdown",
   "id": "e28b65dc-da1b-4cb3-bc4b-bd29352e7031",
   "metadata": {},
   "source": [
    "Q4. What are templates in Flask? Why is the render_template() function used?"
   ]
  },
  {
   "cell_type": "markdown",
   "id": "90b567c1-abe5-492d-86e4-0a4daee9c4a7",
   "metadata": {},
   "source": [
    "In Flask, templates are files that contain HTML, along with dynamic placeholders, called template variables or tags, that can be replaced with actual values during rendering. Templates allow you to separate the presentation logic from the application logic, enabling you to build dynamic web pages that can be easily customized and reused.\n",
    "\n",
    "render_template():- In Flask, the render_template() function is a built-in function that is used to render templates and generate HTML responses. It takes the name of the template file as its first argument and any additional keyword arguments representing the template variables."
   ]
  },
  {
   "cell_type": "markdown",
   "id": "64a9b364-5a93-4397-bde4-ea6793f39e01",
   "metadata": {},
   "source": [
    "Q5. Create a simple API. Use Postman to test it. Attach the screenshot of the output in the Jupyter Notebook."
   ]
  },
  {
   "cell_type": "code",
   "execution_count": null,
   "id": "2e2a0014-87b4-4ee6-ae4a-4d85f7a26313",
   "metadata": {},
   "outputs": [],
   "source": []
  }
 ],
 "metadata": {
  "kernelspec": {
   "display_name": "Python 3 (ipykernel)",
   "language": "python",
   "name": "python3"
  },
  "language_info": {
   "codemirror_mode": {
    "name": "ipython",
    "version": 3
   },
   "file_extension": ".py",
   "mimetype": "text/x-python",
   "name": "python",
   "nbconvert_exporter": "python",
   "pygments_lexer": "ipython3",
   "version": "3.10.8"
  }
 },
 "nbformat": 4,
 "nbformat_minor": 5
}
