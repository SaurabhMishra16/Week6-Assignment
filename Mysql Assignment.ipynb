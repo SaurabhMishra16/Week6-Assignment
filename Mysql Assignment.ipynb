{
 "cells": [
  {
   "cell_type": "markdown",
   "id": "d4de2020-63b7-40cd-876f-1852c1a5354b",
   "metadata": {},
   "source": [
    "Q1. What is a database? Differentiate between SQL and NoSQL databases"
   ]
  },
  {
   "cell_type": "markdown",
   "id": "fab7ae0c-388d-408d-8779-0bcc7980928e",
   "metadata": {},
   "source": [
    "Database is an organized collection of data. so that it can be easily accessed, managed and updated \n",
    "SQL- (Structured Query Language) and NoSQL\n",
    "1. SQL database are primarily called Relational Databases Whereas NoSQL databases are primarily called non-relation or distributed database.\n",
    "2. SQL database define and manipulate data-based structured query langage whereas NoSQL database has dynamic schema for unstructured data.\n",
    "3. SQL databases are vertically scalable whereas NoSQL databases are horizontally scalable.\n",
    "4. SQL databases are table-based on the other hand NoSQL database are either Key-Value pairs, document-based, graph databases or wide column stores.\n",
    "5. SQL databese follow ACID properties (Atomicity, Consistency, Isolation and Durability) whereas the NoSQL database follows the Brewer CAP theorm (Consistency, Availability and Partition tolerance)"
   ]
  },
  {
   "cell_type": "markdown",
   "id": "efb561dc-4f03-4fec-95a5-c1bfdbba13ea",
   "metadata": {},
   "source": [
    "Q2. What is DDL? Explain why CREATE, DROP, ALTER, and TRUNCATE are used with an example."
   ]
  },
  {
   "cell_type": "markdown",
   "id": "6f862d07-d6ce-4bd4-b41f-4f1daad9eca8",
   "metadata": {},
   "source": [
    "a type of SQL command used to define the components of databases using the components of databases using database management system. DDL is DBMS is used to create or modify the database objects like tables, views etc."
   ]
  },
  {
   "cell_type": "markdown",
   "id": "2bdb2505-71d5-4971-8550-8f45b13c839c",
   "metadata": {},
   "source": [
    "CREATE:- CREATE is used for creating the new table in database"
   ]
  },
  {
   "cell_type": "raw",
   "id": "1ef55315-4f48-414c-bca5-6c1098e6c69d",
   "metadata": {},
   "source": [
    "import mysql.connector\n",
    "import logging\n",
    "logging.basicConfig(filename = 'record.txt', level = logging.DEBUG)\n",
    "mydb = mysql.connector.connect(\n",
    "    host: 'localhost',\n",
    "    user:'abc','\n",
    "    passowrd:'password'\n",
    ")\n",
    "logging.info(mydb)\n",
    "mycursor = mydb.cursor()\n",
    "mycursor.execute('CREATE TABLE if not exists data_base.test(id int, name varchar(50), course varchar(20), marks float)')\n",
    "mydb.close()"
   ]
  },
  {
   "cell_type": "markdown",
   "id": "b2893f49-8358-4117-bf3e-cbda2dffca8c",
   "metadata": {},
   "source": [
    "DROP :- DROP is used for Delete the table or database"
   ]
  },
  {
   "cell_type": "raw",
   "id": "437841b0-85c6-4738-a673-b23376fa4cc2",
   "metadata": {},
   "source": [
    "import mysql.connector\n",
    "import logging\n",
    "logging.basicConfig(filename = 'record.txt', level = logging.DEBUG)\n",
    "mydb = mysql.connector.connect(\n",
    "    host: 'localhost',\n",
    "    user:'abc','\n",
    "    passowrd:'password'\n",
    ")\n",
    "logging.info(mydb)\n",
    "mycursor = mydb.cursor()\n",
    "mycursor.execute('DROP data_base.Table test')\n",
    "mydb.close()"
   ]
  },
  {
   "cell_type": "markdown",
   "id": "41a8c5fc-a4c1-4fc7-8af7-c5f94d081b20",
   "metadata": {},
   "source": [
    "ALTER:- ALTER statement is used to add, delete or modify column in existing table."
   ]
  },
  {
   "cell_type": "raw",
   "id": "56e8c432-0e01-4614-ad4f-b69b91532cd2",
   "metadata": {},
   "source": [
    "import mysql.connector\n",
    "import logging\n",
    "logging.basicConfig(filename = 'record.txt', level = logging.DEBUG)\n",
    "mydb = mysql.connector.connect(\n",
    "    host: 'localhost',\n",
    "    user:'abc','\n",
    "    passowrd:'password'\n",
    ")\n",
    "logging.info(mydb)\n",
    "mycursor = mydb.cursor()\n",
    "mycursor.execute('ALTER TABLE data_base.test ADD Fees int')\n",
    "mydb.close()"
   ]
  },
  {
   "cell_type": "markdown",
   "id": "b27ec564-8f28-4e5f-8ed4-b915a7e29be5",
   "metadata": {},
   "source": [
    "TRUNCATE:- TRUNCATE is to delete all the data from SQL table"
   ]
  },
  {
   "cell_type": "raw",
   "id": "a9bab0bc-9757-40ab-9580-101db061966d",
   "metadata": {},
   "source": [
    "import mysql.connector\n",
    "import logging\n",
    "logging.basicConfig(filename = 'record.txt', level = logging.DEBUG)\n",
    "mydb = mysql.connector.connect(\n",
    "    host: 'localhost',\n",
    "    user:'abc','\n",
    "    passowrd:'password'\n",
    ")\n",
    "logging.info(mydb)\n",
    "mycursor = mydb.cursor()\n",
    "mycursor.execute('TRUNCATE TABLE data_base.test')\n",
    "mydb.close()"
   ]
  },
  {
   "cell_type": "markdown",
   "id": "834f8778-60c1-4737-afa5-147bdd010898",
   "metadata": {},
   "source": [
    "Q3. What is DML? Explain INSERT, UPDATE, and DELETE with an example"
   ]
  },
  {
   "cell_type": "markdown",
   "id": "bb6a99f3-ee37-4864-ac5f-de025bb4b1dc",
   "metadata": {},
   "source": [
    "DML:- DML Stands for Data Manipulation language. it is a set of SQL statement that act on the data within a table. Select, insert, update, and delete are elements of this language"
   ]
  },
  {
   "cell_type": "markdown",
   "id": "d71f8708-dc7e-44b8-8616-027d909900eb",
   "metadata": {},
   "source": [
    "INSERT:- This statement is used for insert data in database"
   ]
  },
  {
   "cell_type": "raw",
   "id": "e56b4149-57cd-4d94-81ec-72f742a9b02b",
   "metadata": {},
   "source": [
    "import mysql.connector\n",
    "import logging\n",
    "logging.basicConfig(filename = 'record.txt', level = logging.DEBUG)\n",
    "mydb = mysql.connector.connect(\n",
    "    host: 'localhost',\n",
    "    user:'abc','\n",
    "    passowrd:'password'\n",
    ")\n",
    "logging.info(mydb)\n",
    "mycursor = mydb.cursor()\n",
    "mycursor.execute('INSERT INTO data_base.test values(101,saurabh, datascience, 453.6)')\n",
    "mydb.commit()\n",
    "mydb.close()"
   ]
  },
  {
   "cell_type": "markdown",
   "id": "15d74c22-11b6-48ee-897b-5dfa0fc76f61",
   "metadata": {},
   "source": [
    "update:- We can update existing records in a table by using the 'update' statement"
   ]
  },
  {
   "cell_type": "raw",
   "id": "339ade42-2185-4e60-80ec-6c5a785abbae",
   "metadata": {},
   "source": [
    "import mysql.connector\n",
    "import logging\n",
    "logging.basicConfig(filename = 'record.txt', level = logging.DEBUG)\n",
    "mydb = mysql.connector.connect(\n",
    "    host: 'localhost',\n",
    "    user:'abc','\n",
    "    passowrd:'password'\n",
    ")\n",
    "logging.info(mydb)\n",
    "mycursor = mydb.cursor()\n",
    "mycursor.execute(\"UPDATE data_base.test SET course = 'DBMS' where course = 'datascience'\")\n",
    "mydb.commit()\n",
    "mydb.close()"
   ]
  },
  {
   "cell_type": "markdown",
   "id": "852c4310-822e-4de7-a5b3-3f34fc4d70c0",
   "metadata": {},
   "source": [
    "delete:- We can delete records from an existing table by using the 'DELETE FROM' statement"
   ]
  },
  {
   "cell_type": "raw",
   "id": "17cc49d8-b364-465c-a33a-6d36fda7fbc7",
   "metadata": {},
   "source": [
    "import mysql.connector\n",
    "import logging\n",
    "logging.basicConfig(filename = 'record.txt', level = logging.DEBUG)\n",
    "mydb = mysql.connector.connect(\n",
    "    host: 'localhost',\n",
    "    user:'abc','\n",
    "    passowrd:'password'\n",
    ")\n",
    "logging.info(mydb)\n",
    "mycursor = mydb.cursor()\n",
    "mycursor.execute(\"DELETE FROM data_base.test where course = 'DBMS'\")\n",
    "mydb.commit()\n",
    "mydb.close()"
   ]
  },
  {
   "cell_type": "markdown",
   "id": "f0883652-3ac7-42c9-a46e-da1e1ceac20a",
   "metadata": {},
   "source": [
    "Q4. What is DQL? Explain SELECT with an example"
   ]
  },
  {
   "cell_type": "markdown",
   "id": "074ff7f6-af35-4e79-ab6b-c14e2bcb769b",
   "metadata": {},
   "source": [
    "DQL statements are used for performing queries on the data within schema objects."
   ]
  },
  {
   "cell_type": "raw",
   "id": "29ba598d-9001-46c1-8f00-485c798ebd8c",
   "metadata": {},
   "source": [
    "import mysql.connector\n",
    "import logging\n",
    "logging.basicConfig(filename = 'record.txt', level = logging.DEBUG)\n",
    "mydb = mysql.connector.connect(\n",
    "    host: 'localhost',\n",
    "    user:'abc','\n",
    "    passowrd:'password'\n",
    ")\n",
    "logging.info(mydb)\n",
    "mycursor = mydb.cursor()\n",
    "mycursor.execute(\"SELECT * FROM data_base.test\")\n",
    "for i in mycursor.fetchall():\n",
    "    logging.info(i)\n",
    "\n",
    "mydb.close()"
   ]
  },
  {
   "cell_type": "markdown",
   "id": "0fb1d167-4704-465a-9bb5-b3bb571b78c2",
   "metadata": {},
   "source": [
    "Q5. Explain Primary Key and Foreign Key."
   ]
  },
  {
   "cell_type": "markdown",
   "id": "52adda53-0943-4721-a761-3d2b99c84858",
   "metadata": {},
   "source": [
    "Primary Key:- The PRIMARY KEY constraint uniquely identifies each record in a table. Primary key must contain Unique values, and cannot contain NULL value"
   ]
  },
  {
   "cell_type": "markdown",
   "id": "30505273-2001-4993-aec2-a39bccc5e8c3",
   "metadata": {},
   "source": [
    "Foreign Key:- A FOREIGN KEY is a field( or collection of field), in one table, that refers to the PRIMARY KEY in another table."
   ]
  },
  {
   "cell_type": "markdown",
   "id": "04ef7ca6-221b-40ef-8bc5-70b4ed2fa2e3",
   "metadata": {},
   "source": [
    "Q6. Write a python code to connect MySQL to python. Explain the cursor() and execute() method."
   ]
  },
  {
   "cell_type": "raw",
   "id": "e7964530-eabe-40ad-9059-43c006e3157a",
   "metadata": {},
   "source": [
    "# import mysql library\n",
    "import mysql.connector\n",
    "import logging\n",
    "#connect MySQL\n",
    "\n",
    "logging.basicConfig(filename = 'record.txt', level = logging.DEBUG)\n",
    "mydb = mysql.connector.connect(\n",
    "    host = 'localhost',\n",
    "    user = 'abc',\n",
    "    password = 'password'\n",
    ")\n",
    "\n",
    "# Check database is connected or not\n",
    "logging.info(mydb)\n",
    "\n",
    "mycursor = mydb.cursor()\n",
    "\n",
    "mycursor.execute(\"SELECT * FROM data_base.test\")\n",
    "for i in mycursor.fetchall():\n",
    "    logging.info(i)\n",
    "\n",
    "mydb.close()"
   ]
  },
  {
   "cell_type": "markdown",
   "id": "6e11b1d8-2535-4aa5-bd74-531774b63ffe",
   "metadata": {},
   "source": [
    "cursor():- it is used to execute statement to communicate with MYSQL database.\n",
    "\n",
    "execute():- This method execute the given database operation (query or command)"
   ]
  },
  {
   "cell_type": "markdown",
   "id": "ccc6f25e-9c4d-4842-8c37-7d9485091656",
   "metadata": {},
   "source": [
    "Q7. Give the order of execution of SQL clauses in an SQL query."
   ]
  },
  {
   "cell_type": "markdown",
   "id": "7fc6e07c-faeb-40ec-afd4-c3b9b05bdf86",
   "metadata": {},
   "source": [
    "In a typical SQL query, the clauses are executed in the following order:\n",
    "\n",
    "FROM: Specifies the tables from which to retrieve the data.\n",
    "\n",
    "JOIN: Combines the specified tables based on a specified condition.\n",
    "\n",
    "WHERE: Filters the rows based on a specified condition.\n",
    "\n",
    "GROUP BY: Groups the rows based on specified columns.\n",
    "\n",
    "HAVING: Filters the grouped rows based on a specified condition.\n",
    "\n",
    "SELECT: Selects the columns to include in the result set.\n",
    "\n",
    "DISTINCT: Filters duplicate rows from the result set (optional).\n",
    "\n",
    "ORDER BY: Sorts the rows based on specified columns.\n",
    "\n",
    "LIMIT / OFFSET: Limits the number of rows returned and specifies the starting row (optional).\n",
    "\n",
    "It's important to note that not all clauses are required in every SQL query. The clauses are executed in this order to perform the necessary filtering, grouping, and sorting operations on the data."
   ]
  },
  {
   "cell_type": "code",
   "execution_count": null,
   "id": "eda161bb-3781-4cbe-a330-32c45a505f3c",
   "metadata": {},
   "outputs": [],
   "source": []
  }
 ],
 "metadata": {
  "kernelspec": {
   "display_name": "Python 3 (ipykernel)",
   "language": "python",
   "name": "python3"
  },
  "language_info": {
   "codemirror_mode": {
    "name": "ipython",
    "version": 3
   },
   "file_extension": ".py",
   "mimetype": "text/x-python",
   "name": "python",
   "nbconvert_exporter": "python",
   "pygments_lexer": "ipython3",
   "version": "3.10.8"
  }
 },
 "nbformat": 4,
 "nbformat_minor": 5
}
