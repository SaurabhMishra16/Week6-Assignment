{
 "cells": [
  {
   "cell_type": "markdown",
   "id": "5057cfb5-84fe-4a01-aa0d-ce7b2c49e516",
   "metadata": {},
   "source": [
    "Q1. Write a python program to extract the video URL of the first five videos."
   ]
  },
  {
   "cell_type": "code",
   "execution_count": null,
   "id": "0d36de92-e47c-4167-98db-6743283056b2",
   "metadata": {},
   "outputs": [],
   "source": [
    "from selenium import webdriver\n",
    "from selenium.webdriver.chrome.service import Service\n",
    "from webdriver_manager.chrome import ChromeDriverManager\n",
    "from selenium.webdriver.common.by import By\n",
    "from selenium.webdriver.support.wait import WebDriverWait\n",
    "from selenium.webdriver.support import expected_conditions as EC\n",
    "\n",
    "vurl = []\n",
    "for e in WebDriverWait(driver, 5).until(EC.presence_of_all_elements_located((By.CSS_SELECTOR, 'div#details'))):\n",
    "    video_link = e.find_element(By.CSS_SELECTOR,'a#video-title-link').get_attribute('href')\n",
    "    #video_title = e.find_element(By.CSS_SELECTOR,'a#video-title-link').get_attribute('title')\n",
    "    #video_thumbnail = e.find_element(By.XPATH, '//ytd-thumbnail[@class=\"style-scope ytd-rich-grid-media\"]/a').get_attribute('href')\n",
    "    #video_views = e.find_element(By.XPATH,'//div[@id= \"metadata-line\"]/span').text\n",
    "    #video_date = e.find_element(By.XPATH,'//span[@class = \"inline-metadata-item style-scope ytd-video-meta-block\"][2]').text\n",
    "\n",
    "    vurl.append([str(video_link)])\n",
    "for i in range(5):\n",
    "    print(vurl[i])\n",
    "    \n",
    "\n",
    "fields = ['Video URL'] \n",
    "\n",
    "with io.open('Data.csv','w',encoding=\"utf-8\") as csvfile:\n",
    "    csvwriter = csv.writer(csvfile)\n",
    "    csvwriter.writerow(fields)\n",
    "    csvwriter.writerows(vurl)\n",
    "\n",
    "driver.close()"
   ]
  },
  {
   "cell_type": "markdown",
   "id": "b54f4488-6e15-40e2-9d3d-2e0b972e1afc",
   "metadata": {},
   "source": [
    "Q2. Write a python program to extract the URL of the video thumbnails of the first five videos."
   ]
  },
  {
   "cell_type": "code",
   "execution_count": null,
   "id": "08a29837-1f11-4b19-add3-06bda96c8381",
   "metadata": {},
   "outputs": [],
   "source": [
    "from selenium import webdriver\n",
    "from selenium.webdriver.chrome.service import Service\n",
    "from webdriver_manager.chrome import ChromeDriverManager\n",
    "from selenium.webdriver.common.by import By\n",
    "from selenium.webdriver.support.wait import WebDriverWait\n",
    "from selenium.webdriver.support import expected_conditions as EC\n",
    "\n",
    "vurl = []\n",
    "for e in WebDriverWait(driver, 5).until(EC.presence_of_all_elements_located((By.CSS_SELECTOR, 'div#details'))):\n",
    "    video_link = e.find_element(By.CSS_SELECTOR,'a#video-title-link').get_attribute('href')\n",
    "    #video_title = e.find_element(By.CSS_SELECTOR,'a#video-title-link').get_attribute('title')\n",
    "    video_thumbnail = e.find_element(By.XPATH, '//ytd-thumbnail[@class=\"style-scope ytd-rich-grid-media\"]/a').get_attribute('href')\n",
    "    #video_views = e.find_element(By.XPATH,'//div[@id= \"metadata-line\"]/span').text\n",
    "    #video_date = e.find_element(By.XPATH,'//span[@class = \"inline-metadata-item style-scope ytd-video-meta-block\"][2]').text\n",
    "\n",
    "    vurl.append([str(video_link),str(video_thumbnail)])\n",
    "for i in range(5):\n",
    "    print(vurl[i])\n",
    "    \n",
    "\n",
    "fields = ['Video URL','Thumbnail Url'] \n",
    "\n",
    "with io.open('Data.csv','w',encoding=\"utf-8\") as csvfile:\n",
    "    csvwriter = csv.writer(csvfile)\n",
    "    csvwriter.writerow(fields)\n",
    "    csvwriter.writerows(vurl)\n",
    "\n",
    "driver.close()"
   ]
  },
  {
   "cell_type": "markdown",
   "id": "a221c4e0-4e27-47e7-9ed1-4eba7e275c38",
   "metadata": {},
   "source": [
    "Q3. Write a python program to extract the title of the first five videos."
   ]
  },
  {
   "cell_type": "code",
   "execution_count": null,
   "id": "29dd8c55-f4bb-407e-a120-f98dcd1b7b33",
   "metadata": {},
   "outputs": [],
   "source": [
    "from selenium import webdriver\n",
    "from selenium.webdriver.chrome.service import Service\n",
    "from webdriver_manager.chrome import ChromeDriverManager\n",
    "from selenium.webdriver.common.by import By\n",
    "from selenium.webdriver.support.wait import WebDriverWait\n",
    "from selenium.webdriver.support import expected_conditions as EC\n",
    "\n",
    "vurl = []\n",
    "for e in WebDriverWait(driver, 5).until(EC.presence_of_all_elements_located((By.CSS_SELECTOR, 'div#details'))):\n",
    "    video_link = e.find_element(By.CSS_SELECTOR,'a#video-title-link').get_attribute('href')\n",
    "    video_title = e.find_element(By.CSS_SELECTOR,'a#video-title-link').get_attribute('title')\n",
    "    video_thumbnail = e.find_element(By.XPATH, '//ytd-thumbnail[@class=\"style-scope ytd-rich-grid-media\"]/a').get_attribute('href')\n",
    "    #video_views = e.find_element(By.XPATH,'//div[@id= \"metadata-line\"]/span').text\n",
    "    #video_date = e.find_element(By.XPATH,'//span[@class = \"inline-metadata-item style-scope ytd-video-meta-block\"][2]').text\n",
    "\n",
    "    vurl.append([str(video_link),str(video_thumbnail),str(video_title)])\n",
    "for i in range(5):\n",
    "    print(vurl[i])\n",
    "    \n",
    "\n",
    "fields = ['Video URL','Thumbnail Url','Video Title'] \n",
    "\n",
    "with io.open('Data.csv','w',encoding=\"utf-8\") as csvfile:\n",
    "    csvwriter = csv.writer(csvfile)\n",
    "    csvwriter.writerow(fields)\n",
    "    csvwriter.writerows(vurl)\n",
    "\n",
    "driver.close()"
   ]
  },
  {
   "cell_type": "markdown",
   "id": "17e62d6c-7264-4102-9d94-c20a14b032ce",
   "metadata": {},
   "source": [
    "Q4. Write a python program to extract the number of views of the first five videos"
   ]
  },
  {
   "cell_type": "code",
   "execution_count": null,
   "id": "afdc6a75-f981-44cd-9e62-b38ecc38ece9",
   "metadata": {},
   "outputs": [],
   "source": [
    "from selenium import webdriver\n",
    "from selenium.webdriver.chrome.service import Service\n",
    "from webdriver_manager.chrome import ChromeDriverManager\n",
    "from selenium.webdriver.common.by import By\n",
    "from selenium.webdriver.support.wait import WebDriverWait\n",
    "from selenium.webdriver.support import expected_conditions as EC\n",
    "\n",
    "vurl = []\n",
    "for e in WebDriverWait(driver, 5).until(EC.presence_of_all_elements_located((By.CSS_SELECTOR, 'div#details'))):\n",
    "    video_link = e.find_element(By.CSS_SELECTOR,'a#video-title-link').get_attribute('href')\n",
    "    video_title = e.find_element(By.CSS_SELECTOR,'a#video-title-link').get_attribute('title')\n",
    "    video_thumbnail = e.find_element(By.XPATH, '//ytd-thumbnail[@class=\"style-scope ytd-rich-grid-media\"]/a').get_attribute('href')\n",
    "    video_views = e.find_element(By.XPATH,'//div[@id= \"metadata-line\"]/span').text\n",
    "    #video_date = e.find_element(By.XPATH,'//span[@class = \"inline-metadata-item style-scope ytd-video-meta-block\"][2]').text\n",
    "\n",
    "    vurl.append([str(video_link),str(video_thumbnail),str(video_title),str(video_views)])\n",
    "for i in range(5):\n",
    "    print(vurl[i])\n",
    "    \n",
    "\n",
    "fields = ['Video URL','Thumbnail Url','Video Title','Video Views'] \n",
    "\n",
    "with io.open('Data.csv','w',encoding=\"utf-8\") as csvfile:\n",
    "    csvwriter = csv.writer(csvfile)\n",
    "    csvwriter.writerow(fields)\n",
    "    csvwriter.writerows(vurl)\n",
    "\n",
    "driver.close()"
   ]
  },
  {
   "cell_type": "code",
   "execution_count": null,
   "id": "d8219969-c2c9-4cd1-a0ad-fa95e7eeb816",
   "metadata": {},
   "outputs": [],
   "source": [
    "Q5. Write a python program to extract the time of posting of video for the first five videos."
   ]
  },
  {
   "cell_type": "code",
   "execution_count": null,
   "id": "700b7958-af51-41a9-ac93-95d4ad86448c",
   "metadata": {},
   "outputs": [],
   "source": [
    "from selenium import webdriver\n",
    "from selenium.webdriver.chrome.service import Service\n",
    "from webdriver_manager.chrome import ChromeDriverManager\n",
    "from selenium.webdriver.common.by import By\n",
    "from selenium.webdriver.support.wait import WebDriverWait\n",
    "from selenium.webdriver.support import expected_conditions as EC\n",
    "\n",
    "vurl = []\n",
    "for e in WebDriverWait(driver, 5).until(EC.presence_of_all_elements_located((By.CSS_SELECTOR, 'div#details'))):\n",
    "    video_link = e.find_element(By.CSS_SELECTOR,'a#video-title-link').get_attribute('href')\n",
    "    video_title = e.find_element(By.CSS_SELECTOR,'a#video-title-link').get_attribute('title')\n",
    "    video_thumbnail = e.find_element(By.XPATH, '//ytd-thumbnail[@class=\"style-scope ytd-rich-grid-media\"]/a').get_attribute('href')\n",
    "    video_views = e.find_element(By.XPATH,'//div[@id= \"metadata-line\"]/span').text\n",
    "    video_date = e.find_element(By.XPATH,'//span[@class = \"inline-metadata-item style-scope ytd-video-meta-block\"][2]').text\n",
    "\n",
    "    vurl.append([str(video_link),str(video_thumbnail),str(video_title),str(video_views),str(video_date)])\n",
    "for i in range(5):\n",
    "    print(vurl[i])\n",
    "    \n",
    "\n",
    "fields = ['Video URL','Thumbnail Url','Video Title','Video Views','Video Post'] \n",
    "\n",
    "with io.open('Data.csv','w',encoding=\"utf-8\") as csvfile:\n",
    "    csvwriter = csv.writer(csvfile)\n",
    "    csvwriter.writerow(fields)\n",
    "    csvwriter.writerows(vurl)\n",
    "\n",
    "driver.close()"
   ]
  },
  {
   "cell_type": "code",
   "execution_count": null,
   "id": "415e3eaa-37a3-4a1f-830e-6f293894adc3",
   "metadata": {},
   "outputs": [],
   "source": []
  },
  {
   "cell_type": "code",
   "execution_count": null,
   "id": "0ffff3cc-ef80-4c55-9ee2-41c912d8c57b",
   "metadata": {},
   "outputs": [],
   "source": []
  },
  {
   "cell_type": "code",
   "execution_count": null,
   "id": "a892d130-9797-4033-aa82-23c2f7ee9a84",
   "metadata": {},
   "outputs": [],
   "source": []
  },
  {
   "cell_type": "code",
   "execution_count": null,
   "id": "64ce7611-a643-477c-8474-71325ab6857b",
   "metadata": {},
   "outputs": [],
   "source": []
  },
  {
   "cell_type": "code",
   "execution_count": null,
   "id": "f6251986-8956-4a85-ae4d-14a5d1f47505",
   "metadata": {},
   "outputs": [],
   "source": []
  }
 ],
 "metadata": {
  "kernelspec": {
   "display_name": "Python 3 (ipykernel)",
   "language": "python",
   "name": "python3"
  },
  "language_info": {
   "codemirror_mode": {
    "name": "ipython",
    "version": 3
   },
   "file_extension": ".py",
   "mimetype": "text/x-python",
   "name": "python",
   "nbconvert_exporter": "python",
   "pygments_lexer": "ipython3",
   "version": "3.10.8"
  }
 },
 "nbformat": 4,
 "nbformat_minor": 5
}
